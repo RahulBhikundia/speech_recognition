{
 "cells": [
  {
   "cell_type": "code",
   "execution_count": 2,
   "metadata": {},
   "outputs": [],
   "source": [
    "import speech_recognition as sr\n",
    "r = sr.Recognizer()"
   ]
  },
  {
   "cell_type": "code",
   "execution_count": 3,
   "metadata": {},
   "outputs": [],
   "source": [
    "audio_file = sr.AudioFile('Recording.wav')"
   ]
  },
  {
   "cell_type": "code",
   "execution_count": 4,
   "metadata": {},
   "outputs": [
    {
     "name": "stdout",
     "output_type": "stream",
     "text": [
      "result2:\n",
      "{   'alternative': [   {   'confidence': 0.873649,\n",
      "                           'transcript': 'hello everyone I am making a speech '\n",
      "                                         'recognis using Python machine '\n",
      "                                         'learning model'},\n",
      "                       {   'transcript': 'hello everyone I am making a speech '\n",
      "                                         'recognizel machine learning model'},\n",
      "                       {   'transcript': 'hello everyone I am making a Peach '\n",
      "                                         'recognis using Python machine '\n",
      "                                         'learning model'},\n",
      "                       {   'transcript': 'hello everyone I am making a speech '\n",
      "                                         'recognis using Python machine'},\n",
      "                       {   'transcript': 'hello everyone I am making a speech '\n",
      "                                         'recognis using Python machine '\n",
      "                                         'learning'}],\n",
      "    'final': True}\n"
     ]
    }
   ],
   "source": [
    "with audio_file as source:\n",
    "    r.adjust_for_ambient_noise(source)\n",
    "    audio = r.record(source)\n",
    "\n",
    "result = r.recognize_google(audio)"
   ]
  },
  {
   "cell_type": "code",
   "execution_count": 5,
   "metadata": {},
   "outputs": [
    {
     "name": "stdout",
     "output_type": "stream",
     "text": [
      "ready!\n"
     ]
    }
   ],
   "source": [
    "with open('test.txt',mode = 'w') as file:\n",
    "    file.write(\"Recognized text:\")\n",
    "    file.write(\"\\n\")\n",
    "    file.write(result)\n",
    "    print(\"ready!\")"
   ]
  }
 ],
 "metadata": {
  "kernelspec": {
   "display_name": "Python 3",
   "language": "python",
   "name": "python3"
  },
  "language_info": {
   "codemirror_mode": {
    "name": "ipython",
    "version": 3
   },
   "file_extension": ".py",
   "mimetype": "text/x-python",
   "name": "python",
   "nbconvert_exporter": "python",
   "pygments_lexer": "ipython3",
   "version": "3.11.0"
  },
  "orig_nbformat": 4,
  "vscode": {
   "interpreter": {
    "hash": "1541a75496dc353dd60d2f656c7f359c8f58f7fd047796a5f580808f3980f1f2"
   }
  }
 },
 "nbformat": 4,
 "nbformat_minor": 2
}
